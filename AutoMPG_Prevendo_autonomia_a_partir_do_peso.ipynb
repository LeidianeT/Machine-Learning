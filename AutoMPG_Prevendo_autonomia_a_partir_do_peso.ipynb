{
  "nbformat": 4,
  "nbformat_minor": 0,
  "metadata": {
    "colab": {
      "name": "AutoMPG_Prevendo_autonomia_a_partir_do_peso.ipynb",
      "provenance": [],
      "collapsed_sections": []
    },
    "kernelspec": {
      "name": "python3",
      "display_name": "Python 3"
    }
  },
  "cells": [
    {
      "cell_type": "markdown",
      "metadata": {
        "id": "UxP8BQn3m6Xh"
      },
      "source": [
        "**Autora: Leidiane Teixeira dos Reis**"
      ]
    },
    {
      "cell_type": "markdown",
      "metadata": {
        "id": "edQHkfjqsxJT"
      },
      "source": [
        "Esse projeto tem como objetivo utilizar rede neurais multilayer perceptron para regressão e regressão linear para prever a autonomia de veículos a partir do seu peso.\r\n",
        "\r\n",
        "**DADOS**:\r\n",
        "Os dados estão diponíveis na plataforma kaggle : [autompg-dataset](https://www.kaggle.com/uciml/autompg-dataset)\r\n"
      ]
    },
    {
      "cell_type": "markdown",
      "metadata": {
        "id": "He1wmx2-wcLe"
      },
      "source": [
        "##Preâmbulo"
      ]
    },
    {
      "cell_type": "code",
      "metadata": {
        "id": "W_23K-rtjXFH"
      },
      "source": [
        "#Importação das bibliotecas básicas\r\n",
        "import pandas as pd\r\n",
        "import numpy as np"
      ],
      "execution_count": 1,
      "outputs": []
    },
    {
      "cell_type": "code",
      "metadata": {
        "id": "4iaUzOxe6xBj"
      },
      "source": [
        "#Geração de gráficos\r\n",
        "import matplotlib.pyplot as plt"
      ],
      "execution_count": 2,
      "outputs": []
    },
    {
      "cell_type": "code",
      "metadata": {
        "id": "Q9d8bwH266_K"
      },
      "source": [
        "#Bibliotecas específicas para machine learning\r\n",
        "from sklearn.preprocessing import StandardScaler               #normalização\r\n",
        "from sklearn.model_selection import train_test_split           #divisão conjuntos de treino e teste\r\n",
        "from sklearn.metrics import r2_score                           #avaliação da precisão do modelo\r\n",
        "from sklearn.linear_model import SGDRegressor                  #modelo linear\r\n",
        "from sklearn.neural_network import MLPRegressor                #modelo MLP para regressão  "
      ],
      "execution_count": 3,
      "outputs": []
    },
    {
      "cell_type": "markdown",
      "metadata": {
        "id": "8316xdkL6KfR"
      },
      "source": [
        "## Conjunto de dados (Dataset)"
      ]
    },
    {
      "cell_type": "markdown",
      "metadata": {
        "id": "TF3zV73IjIM9"
      },
      "source": [
        "**Importante**: Para executar o camando abaixo lembre-se de fazer o download do conjunto de dados e  coloque o caminho do seu próprio drive ou máquina. Caso contrário dará erro."
      ]
    },
    {
      "cell_type": "code",
      "metadata": {
        "id": "JQnHRRMk8E0g"
      },
      "source": [
        "#Carregamento do conjunto de dados do drive\r\n",
        "dados = pd.read_csv('/content/drive/MyDrive/PYTHON - MACHINE LEARNING - DATA SCIENCE/CÓDIGOS MACHINE LEARNING /MLP/datasets/auto-mpg.csv')"
      ],
      "execution_count": 6,
      "outputs": []
    },
    {
      "cell_type": "code",
      "metadata": {
        "colab": {
          "base_uri": "https://localhost:8080/",
          "height": 204
        },
        "id": "kU13Re8A81o4",
        "outputId": "47d08ed2-1bb9-4c0b-b239-0240be9bb972"
      },
      "source": [
        "dados.head()"
      ],
      "execution_count": null,
      "outputs": [
        {
          "output_type": "execute_result",
          "data": {
            "text/html": [
              "<div>\n",
              "<style scoped>\n",
              "    .dataframe tbody tr th:only-of-type {\n",
              "        vertical-align: middle;\n",
              "    }\n",
              "\n",
              "    .dataframe tbody tr th {\n",
              "        vertical-align: top;\n",
              "    }\n",
              "\n",
              "    .dataframe thead th {\n",
              "        text-align: right;\n",
              "    }\n",
              "</style>\n",
              "<table border=\"1\" class=\"dataframe\">\n",
              "  <thead>\n",
              "    <tr style=\"text-align: right;\">\n",
              "      <th></th>\n",
              "      <th>mpg</th>\n",
              "      <th>cylinders</th>\n",
              "      <th>displacement</th>\n",
              "      <th>horsepower</th>\n",
              "      <th>weight</th>\n",
              "      <th>acceleration</th>\n",
              "      <th>model year</th>\n",
              "      <th>origin</th>\n",
              "      <th>car name</th>\n",
              "    </tr>\n",
              "  </thead>\n",
              "  <tbody>\n",
              "    <tr>\n",
              "      <th>0</th>\n",
              "      <td>18.0</td>\n",
              "      <td>8</td>\n",
              "      <td>307.0</td>\n",
              "      <td>130</td>\n",
              "      <td>3504</td>\n",
              "      <td>12.0</td>\n",
              "      <td>70</td>\n",
              "      <td>1</td>\n",
              "      <td>chevrolet chevelle malibu</td>\n",
              "    </tr>\n",
              "    <tr>\n",
              "      <th>1</th>\n",
              "      <td>15.0</td>\n",
              "      <td>8</td>\n",
              "      <td>350.0</td>\n",
              "      <td>165</td>\n",
              "      <td>3693</td>\n",
              "      <td>11.5</td>\n",
              "      <td>70</td>\n",
              "      <td>1</td>\n",
              "      <td>buick skylark 320</td>\n",
              "    </tr>\n",
              "    <tr>\n",
              "      <th>2</th>\n",
              "      <td>18.0</td>\n",
              "      <td>8</td>\n",
              "      <td>318.0</td>\n",
              "      <td>150</td>\n",
              "      <td>3436</td>\n",
              "      <td>11.0</td>\n",
              "      <td>70</td>\n",
              "      <td>1</td>\n",
              "      <td>plymouth satellite</td>\n",
              "    </tr>\n",
              "    <tr>\n",
              "      <th>3</th>\n",
              "      <td>16.0</td>\n",
              "      <td>8</td>\n",
              "      <td>304.0</td>\n",
              "      <td>150</td>\n",
              "      <td>3433</td>\n",
              "      <td>12.0</td>\n",
              "      <td>70</td>\n",
              "      <td>1</td>\n",
              "      <td>amc rebel sst</td>\n",
              "    </tr>\n",
              "    <tr>\n",
              "      <th>4</th>\n",
              "      <td>17.0</td>\n",
              "      <td>8</td>\n",
              "      <td>302.0</td>\n",
              "      <td>140</td>\n",
              "      <td>3449</td>\n",
              "      <td>10.5</td>\n",
              "      <td>70</td>\n",
              "      <td>1</td>\n",
              "      <td>ford torino</td>\n",
              "    </tr>\n",
              "  </tbody>\n",
              "</table>\n",
              "</div>"
            ],
            "text/plain": [
              "    mpg  cylinders  displacement  ... model year  origin                   car name\n",
              "0  18.0          8         307.0  ...         70       1  chevrolet chevelle malibu\n",
              "1  15.0          8         350.0  ...         70       1          buick skylark 320\n",
              "2  18.0          8         318.0  ...         70       1         plymouth satellite\n",
              "3  16.0          8         304.0  ...         70       1              amc rebel sst\n",
              "4  17.0          8         302.0  ...         70       1                ford torino\n",
              "\n",
              "[5 rows x 9 columns]"
            ]
          },
          "metadata": {
            "tags": []
          },
          "execution_count": 44
        }
      ]
    },
    {
      "cell_type": "markdown",
      "metadata": {
        "id": "WShk1QpX9PNL"
      },
      "source": [
        "Vamos visualizar a relação entre as duas variáveis que desejamos correlacionar. "
      ]
    },
    {
      "cell_type": "code",
      "metadata": {
        "colab": {
          "base_uri": "https://localhost:8080/",
          "height": 312
        },
        "id": "umMXRPdM9ZL4",
        "outputId": "7a8117a7-6c64-4b2e-dc82-cd9dc53cf75f"
      },
      "source": [
        "plt.scatter(dados[['weight']], dados[['mpg']])\r\n",
        "plt.xlabel('Peso (libras)')\r\n",
        "plt.ylabel('Autonomia (mpg)')\r\n",
        "plt.title('Relação entre autonomia e peso dos veículos')"
      ],
      "execution_count": 7,
      "outputs": [
        {
          "output_type": "execute_result",
          "data": {
            "text/plain": [
              "Text(0.5, 1.0, 'Relação entre autonomia e peso dos veículos')"
            ]
          },
          "metadata": {
            "tags": []
          },
          "execution_count": 7
        },
        {
          "output_type": "display_data",
          "data": {
            "image/png": "[encoded data removed]",
            "text/plain": [
              "<Figure size 432x288 with 1 Axes>"
            ]
          },
          "metadata": {
            "tags": [],
            "needs_background": "light"
          }
        }
      ]
    },
    {
      "cell_type": "markdown",
      "metadata": {
        "id": "tK0SAieJ-Jn1"
      },
      "source": [
        "Existe uma tendência: a medida que o peso do veículo aumenta a autonomia dimunui."
      ]
    },
    {
      "cell_type": "markdown",
      "metadata": {
        "id": "7lVy-Do5-esI"
      },
      "source": [
        "##Pré-processamento"
      ]
    },
    {
      "cell_type": "markdown",
      "metadata": {
        "id": "layqqH2t-j_U"
      },
      "source": [
        "Começamos pela seleção das variáveis de entrada e saída do modelo, armazenadas nas váriaveis X e Y respectivamente.<br>\r\n",
        "entrada(s): weight (peso) <br>\r\n",
        "saída: autonomia em milhas por galão (mpg)"
      ]
    },
    {
      "cell_type": "code",
      "metadata": {
        "id": "zCz4XIp5-hCU"
      },
      "source": [
        "X = dados[['weight']]\r\n",
        "Y = dados[['mpg']]"
      ],
      "execution_count": 8,
      "outputs": []
    },
    {
      "cell_type": "markdown",
      "metadata": {
        "id": "_gGZab95Awm3"
      },
      "source": [
        "Vamos transformar as variáveis peso(weight) de libras para KG e a autonomia de MPG para KM/L "
      ]
    },
    {
      "cell_type": "code",
      "metadata": {
        "id": "80ux20N2BgQ2"
      },
      "source": [
        "X['weight'] = X['weight'] * 0.453592\r\n",
        "Y['mpg'] = Y['mpg'] * 0.425144"
      ],
      "execution_count": null,
      "outputs": []
    },
    {
      "cell_type": "code",
      "metadata": {
        "colab": {
          "base_uri": "https://localhost:8080/",
          "height": 297
        },
        "id": "2g8eR9SzCEPh",
        "outputId": "3c67e387-c054-4db8-cff7-b13c5622f32e"
      },
      "source": [
        "#Resumo estatístico dos dados de entrada\r\n",
        "X.describe()"
      ],
      "execution_count": 10,
      "outputs": [
        {
          "output_type": "execute_result",
          "data": {
            "text/html": [
              "<div>\n",
              "<style scoped>\n",
              "    .dataframe tbody tr th:only-of-type {\n",
              "        vertical-align: middle;\n",
              "    }\n",
              "\n",
              "    .dataframe tbody tr th {\n",
              "        vertical-align: top;\n",
              "    }\n",
              "\n",
              "    .dataframe thead th {\n",
              "        text-align: right;\n",
              "    }\n",
              "</style>\n",
              "<table border=\"1\" class=\"dataframe\">\n",
              "  <thead>\n",
              "    <tr style=\"text-align: right;\">\n",
              "      <th></th>\n",
              "      <th>weight</th>\n",
              "    </tr>\n",
              "  </thead>\n",
              "  <tbody>\n",
              "    <tr>\n",
              "      <th>count</th>\n",
              "      <td>398.000000</td>\n",
              "    </tr>\n",
              "    <tr>\n",
              "      <th>mean</th>\n",
              "      <td>1347.360846</td>\n",
              "    </tr>\n",
              "    <tr>\n",
              "      <th>std</th>\n",
              "      <td>384.120654</td>\n",
              "    </tr>\n",
              "    <tr>\n",
              "      <th>min</th>\n",
              "      <td>731.643896</td>\n",
              "    </tr>\n",
              "    <tr>\n",
              "      <th>25%</th>\n",
              "      <td>1008.675210</td>\n",
              "    </tr>\n",
              "    <tr>\n",
              "      <th>50%</th>\n",
              "      <td>1271.645172</td>\n",
              "    </tr>\n",
              "    <tr>\n",
              "      <th>75%</th>\n",
              "      <td>1636.559936</td>\n",
              "    </tr>\n",
              "    <tr>\n",
              "      <th>max</th>\n",
              "      <td>2331.462880</td>\n",
              "    </tr>\n",
              "  </tbody>\n",
              "</table>\n",
              "</div>"
            ],
            "text/plain": [
              "            weight\n",
              "count   398.000000\n",
              "mean   1347.360846\n",
              "std     384.120654\n",
              "min     731.643896\n",
              "25%    1008.675210\n",
              "50%    1271.645172\n",
              "75%    1636.559936\n",
              "max    2331.462880"
            ]
          },
          "metadata": {
            "tags": []
          },
          "execution_count": 10
        }
      ]
    },
    {
      "cell_type": "markdown",
      "metadata": {
        "id": "450lmkB5Ci9B"
      },
      "source": [
        "Normalizamos os dados para um intervalo de valores menor para facilitar o treinamento. E para isso utilizamos a função de pre-processing do sklearn"
      ]
    },
    {
      "cell_type": "code",
      "metadata": {
        "id": "5RuupjY2CftP"
      },
      "source": [
        "#Normalização dos dados de entrada\r\n",
        "escala = StandardScaler()\r\n",
        "escala.fit(X)\r\n",
        "\r\n",
        "X_norm = escala.transform(X)"
      ],
      "execution_count": 11,
      "outputs": []
    },
    {
      "cell_type": "markdown",
      "metadata": {
        "id": "rFQh-NoQDF54"
      },
      "source": [
        "Dividimos o dataset em conjunto de treino e teste por meio da função train_test_split. Serão usados 70% dos dados para treino e 30% para validação."
      ]
    },
    {
      "cell_type": "code",
      "metadata": {
        "id": "jKnmFXRBDEBA"
      },
      "source": [
        "X_norm_train, X_norm_test, Y_train, Y_test = train_test_split(X_norm, Y, test_size=0.3)"
      ],
      "execution_count": 19,
      "outputs": []
    },
    {
      "cell_type": "markdown",
      "metadata": {
        "id": "Ejxnl2DCD3uG"
      },
      "source": [
        "##Processamento"
      ]
    },
    {
      "cell_type": "markdown",
      "metadata": {
        "id": "_Jea9ffoEvwv"
      },
      "source": [
        "Nessa fase, treinaremos nosso modelo. Primeiro criamos um objeto da função MLPRegressor passando as variáveis os hiperparâmetros necessárias para o treinamento do modelo, sendo elas:\r\n",
        "* *hidden_layer_sizes=(10,5)* : número de neurônio e camadas escondidas\r\n",
        "* *max_iter* : número máximo de iterações\r\n",
        "* *tol* : tolerância para otimização\r\n",
        "* *learning_rate_init* : taxa de aprendizagem inicial\r\n",
        "* *solver* : solucionador para otimização de pesos\r\n",
        "* *activation* : função de ativação\r\n",
        "* *learning_rate*: taxa de aprendizagem\r\n",
        "* *verbose*: mostra o que está acontecendo a cada iteração"
      ]
    },
    {
      "cell_type": "code",
      "metadata": {
        "id": "7FWAr4VpD3NT"
      },
      "source": [
        "rna = MLPRegressor(hidden_layer_sizes=(10,5),\r\n",
        "                   max_iter= 2000,\r\n",
        "                   tol = 0.0000001,\r\n",
        "                   learning_rate_init =0.1,\r\n",
        "                   solver = 'sgd',\r\n",
        "                   activation = 'logistic',\r\n",
        "                   learning_rate= 'constant',\r\n",
        "                   verbose = 2)"
      ],
      "execution_count": 28,
      "outputs": []
    },
    {
      "cell_type": "markdown",
      "metadata": {
        "id": "sD_N0UrqJfBk"
      },
      "source": [
        "E treinamos nosso modelo utilizando redes neurais MLP"
      ]
    },
    {
      "cell_type": "code",
      "metadata": {
        "colab": {
          "base_uri": "https://localhost:8080/"
        },
        "id": "hugaVNuLJIIq",
        "outputId": "615c6d0a-dc32-42ad-b6db-a6a5fb231ee4"
      },
      "source": [
        "#Treinamento usando RNA MLP\r\n",
        "rna.fit(X_norm_train, Y_train)"
      ],
      "execution_count": 29,
      "outputs": [
        {
          "output_type": "stream",
          "text": [
            "Iteration 1, loss = 43.12867925\n",
            "Iteration 2, loss = 7.32876481\n",
            "Iteration 3, loss = 5.51080629\n",
            "Iteration 4, loss = 4.13097112\n",
            "Iteration 5, loss = 3.45537877\n",
            "Iteration 6, loss = 2.53457209\n",
            "Iteration 7, loss = 1.86532677\n",
            "Iteration 8, loss = 1.63361648\n",
            "Iteration 9, loss = 1.65652631\n",
            "Iteration 10, loss = 1.72745168\n",
            "Iteration 11, loss = 1.76012178\n",
            "Iteration 12, loss = 1.79174437\n",
            "Iteration 13, loss = 1.73572277\n",
            "Iteration 14, loss = 1.64763067\n",
            "Iteration 15, loss = 1.63078911\n",
            "Iteration 16, loss = 1.59915591\n",
            "Iteration 17, loss = 1.58521977\n",
            "Iteration 18, loss = 1.57255094\n",
            "Iteration 19, loss = 1.55129794\n",
            "Iteration 20, loss = 1.56131496\n",
            "Iteration 21, loss = 1.53164359\n",
            "Iteration 22, loss = 1.51685054\n",
            "Iteration 23, loss = 1.52314676\n",
            "Iteration 24, loss = 1.51705324\n",
            "Iteration 25, loss = 1.50003476\n",
            "Iteration 26, loss = 1.51967909\n",
            "Iteration 27, loss = 1.53409675\n",
            "Iteration 28, loss = 1.48971647\n",
            "Iteration 29, loss = 1.48641847\n",
            "Iteration 30, loss = 1.48677174\n",
            "Iteration 31, loss = 1.47216629\n",
            "Iteration 32, loss = 1.46770251\n",
            "Iteration 33, loss = 1.47202609\n",
            "Iteration 34, loss = 1.46837140\n",
            "Iteration 35, loss = 1.47552342\n",
            "Iteration 36, loss = 1.50095052\n",
            "Iteration 37, loss = 1.48643670\n",
            "Iteration 38, loss = 1.44708334\n",
            "Iteration 39, loss = 1.46252336\n",
            "Iteration 40, loss = 1.50642300\n",
            "Iteration 41, loss = 1.48880078\n",
            "Iteration 42, loss = 1.43434167\n",
            "Iteration 43, loss = 1.46251575\n",
            "Iteration 44, loss = 1.49823708\n",
            "Iteration 45, loss = 1.45159746\n",
            "Iteration 46, loss = 1.43389822\n",
            "Iteration 47, loss = 1.44284997\n",
            "Iteration 48, loss = 1.45287453\n",
            "Iteration 49, loss = 1.42711055\n",
            "Iteration 50, loss = 1.43517188\n",
            "Iteration 51, loss = 1.43556437\n",
            "Iteration 52, loss = 1.48453179\n",
            "Iteration 53, loss = 1.46949439\n",
            "Iteration 54, loss = 1.43129480\n",
            "Iteration 55, loss = 1.42534938\n",
            "Iteration 56, loss = 1.43271853\n",
            "Iteration 57, loss = 1.43070930\n",
            "Iteration 58, loss = 1.42590712\n",
            "Iteration 59, loss = 1.43002951\n",
            "Iteration 60, loss = 1.42215614\n",
            "Iteration 61, loss = 1.42152922\n",
            "Iteration 62, loss = 1.44844620\n",
            "Iteration 63, loss = 1.48796629\n",
            "Iteration 64, loss = 1.45129026\n",
            "Iteration 65, loss = 1.54221287\n",
            "Iteration 66, loss = 1.42075496\n",
            "Iteration 67, loss = 1.43581836\n",
            "Iteration 68, loss = 1.43296447\n",
            "Iteration 69, loss = 1.42047795\n",
            "Iteration 70, loss = 1.43143702\n",
            "Iteration 71, loss = 1.42286550\n",
            "Iteration 72, loss = 1.42865744\n",
            "Iteration 73, loss = 1.43084416\n",
            "Iteration 74, loss = 1.43566538\n",
            "Iteration 75, loss = 1.45652872\n",
            "Iteration 76, loss = 1.43163493\n",
            "Iteration 77, loss = 1.43461714\n",
            "Iteration 78, loss = 1.43543655\n",
            "Iteration 79, loss = 1.42473251\n",
            "Iteration 80, loss = 1.41822155\n",
            "Iteration 81, loss = 1.42258241\n",
            "Iteration 82, loss = 1.42468990\n",
            "Iteration 83, loss = 1.42417528\n",
            "Iteration 84, loss = 1.42168280\n",
            "Iteration 85, loss = 1.43652911\n",
            "Iteration 86, loss = 1.42303814\n",
            "Iteration 87, loss = 1.45378383\n",
            "Iteration 88, loss = 1.42001795\n",
            "Iteration 89, loss = 1.42360884\n",
            "Iteration 90, loss = 1.42144443\n",
            "Iteration 91, loss = 1.42361501\n",
            "Training loss did not improve more than tol=0.000000 for 10 consecutive epochs. Stopping.\n"
          ],
          "name": "stdout"
        },
        {
          "output_type": "stream",
          "text": [
            "/usr/local/lib/python3.6/dist-packages/sklearn/neural_network/_multilayer_perceptron.py:1342: DataConversionWarning: A column-vector y was passed when a 1d array was expected. Please change the shape of y to (n_samples, ), for example using ravel().\n",
            "  y = column_or_1d(y, warn=True)\n"
          ],
          "name": "stderr"
        },
        {
          "output_type": "execute_result",
          "data": {
            "text/plain": [
              "MLPRegressor(activation='logistic', alpha=0.0001, batch_size='auto', beta_1=0.9,\n",
              "             beta_2=0.999, early_stopping=False, epsilon=1e-08,\n",
              "             hidden_layer_sizes=(10, 5), learning_rate='constant',\n",
              "             learning_rate_init=0.1, max_fun=15000, max_iter=2000, momentum=0.9,\n",
              "             n_iter_no_change=10, nesterovs_momentum=True, power_t=0.5,\n",
              "             random_state=None, shuffle=True, solver='sgd', tol=1e-07,\n",
              "             validation_fraction=0.1, verbose=2, warm_start=False)"
            ]
          },
          "metadata": {
            "tags": []
          },
          "execution_count": 29
        }
      ]
    },
    {
      "cell_type": "markdown",
      "metadata": {
        "id": "k1LNOkepKgAN"
      },
      "source": [
        "Criamos o objeto do nosso segundo modelo passando alguns hiperparâmetros."
      ]
    },
    {
      "cell_type": "code",
      "metadata": {
        "id": "HleiAzg5Jxx1"
      },
      "source": [
        "#Treinamento usando regressão linear\r\n",
        "reglinear = SGDRegressor(max_iter=2000,\r\n",
        "                        tol = 000000.1,\r\n",
        "                        eta0 = 0.1,\r\n",
        "                        learning_rate = 'constant',\r\n",
        "                        verbose = 2,)"
      ],
      "execution_count": 30,
      "outputs": []
    },
    {
      "cell_type": "code",
      "metadata": {
        "colab": {
          "base_uri": "https://localhost:8080/"
        },
        "id": "f2MbGEoRKwa2",
        "outputId": "c212e2b6-72e4-4d15-d369-d696b3b5bba7"
      },
      "source": [
        "#Treinamos o modelo usando regressão linear\r\n",
        "reglinear.fit(X_norm_train, Y_train)"
      ],
      "execution_count": 31,
      "outputs": [
        {
          "output_type": "stream",
          "text": [
            "-- Epoch 1\n",
            "Norm: 3.17, NNZs: 1, Bias: 10.125670, T: 278, Avg. loss: 2.611680\n",
            "Total training time: 0.00 seconds.\n",
            "-- Epoch 2\n",
            "Norm: 2.72, NNZs: 1, Bias: 10.212566, T: 556, Avg. loss: 1.698781\n",
            "Total training time: 0.00 seconds.\n",
            "-- Epoch 3\n",
            "Norm: 2.96, NNZs: 1, Bias: 10.032937, T: 834, Avg. loss: 1.670582\n",
            "Total training time: 0.00 seconds.\n",
            "-- Epoch 4\n",
            "Norm: 2.92, NNZs: 1, Bias: 10.660077, T: 1112, Avg. loss: 1.683944\n",
            "Total training time: 0.00 seconds.\n",
            "-- Epoch 5\n",
            "Norm: 2.13, NNZs: 1, Bias: 9.118409, T: 1390, Avg. loss: 1.715037\n",
            "Total training time: 0.00 seconds.\n",
            "-- Epoch 6\n",
            "Norm: 2.29, NNZs: 1, Bias: 9.546823, T: 1668, Avg. loss: 1.621522\n",
            "Total training time: 0.00 seconds.\n",
            "-- Epoch 7\n",
            "Norm: 2.32, NNZs: 1, Bias: 9.491113, T: 1946, Avg. loss: 1.668346\n",
            "Total training time: 0.01 seconds.\n",
            "Convergence after 7 epochs took 0.01 seconds\n"
          ],
          "name": "stdout"
        },
        {
          "output_type": "stream",
          "text": [
            "/usr/local/lib/python3.6/dist-packages/sklearn/utils/validation.py:760: DataConversionWarning: A column-vector y was passed when a 1d array was expected. Please change the shape of y to (n_samples, ), for example using ravel().\n",
            "  y = column_or_1d(y, warn=True)\n"
          ],
          "name": "stderr"
        },
        {
          "output_type": "execute_result",
          "data": {
            "text/plain": [
              "SGDRegressor(alpha=0.0001, average=False, early_stopping=False, epsilon=0.1,\n",
              "             eta0=0.1, fit_intercept=True, l1_ratio=0.15,\n",
              "             learning_rate='constant', loss='squared_loss', max_iter=2000,\n",
              "             n_iter_no_change=5, penalty='l2', power_t=0.25, random_state=None,\n",
              "             shuffle=True, tol=0.1, validation_fraction=0.1, verbose=2,\n",
              "             warm_start=False)"
            ]
          },
          "metadata": {
            "tags": []
          },
          "execution_count": 31
        }
      ]
    },
    {
      "cell_type": "markdown",
      "metadata": {
        "id": "KSDw2JLkLVJK"
      },
      "source": [
        "##Pós-processamento"
      ]
    },
    {
      "cell_type": "markdown",
      "metadata": {
        "id": "kCC9P-Q-Lx3z"
      },
      "source": [
        "Agora que treinamos o nosso modelo e temos os parâmetros podemos fazer as previsões e validar nossos modelos"
      ]
    },
    {
      "cell_type": "code",
      "metadata": {
        "id": "lDj1rBgULQF3"
      },
      "source": [
        "#Previsões no conjunto de teste\r\n",
        "Y_rna_previsao = rna.predict(X_norm_test)\r\n",
        "Y_rl_previsao = reglinear.predict(X_norm_test)"
      ],
      "execution_count": 32,
      "outputs": []
    },
    {
      "cell_type": "code",
      "metadata": {
        "colab": {
          "base_uri": "https://localhost:8080/"
        },
        "id": "z28H80v5MWu-",
        "outputId": "1c2af37c-de02-4c77-90f6-52177490bad1"
      },
      "source": [
        "#Cálculo da próximidade entre os dados reais e previstos (R^2)\r\n",
        "r2_rna = r2_score(Y_test, Y_rna_previsao)\r\n",
        "r2_rl = r2_score(Y_test, Y_rl_previsao)\r\n",
        "\r\n",
        "print('R² do MLP: ',r2_rna)\r\n",
        "print('R² da RL: ', r2_rl)"
      ],
      "execution_count": 33,
      "outputs": [
        {
          "output_type": "stream",
          "text": [
            "R² do MLP:  0.7190628317322691\n",
            "R² da RL:  0.6280578295954521\n"
          ],
          "name": "stdout"
        }
      ]
    },
    {
      "cell_type": "markdown",
      "metadata": {
        "id": "ElmpbDywcB1p"
      },
      "source": [
        "Pelo cálculo do R² é possível ver que o modelo treinado utilizando redes MLP se ajustou melhor aos dados. "
      ]
    },
    {
      "cell_type": "code",
      "metadata": {
        "colab": {
          "base_uri": "https://localhost:8080/",
          "height": 312
        },
        "id": "yN5vD3LsOwpT",
        "outputId": "df48ade2-49d6-4615-9f92-48c97e3b2656"
      },
      "source": [
        "#Visualização dos resultados\r\n",
        "X_test = escala.inverse_transform(X_norm_test)\r\n",
        "\r\n",
        "plt.scatter(X_test, Y_test, alpha=0.5, label='Reais')\r\n",
        "plt.scatter(X_test, Y_rna_previsao, alpha=0.5, label ='MLP')\r\n",
        "plt.scatter(X_test, Y_rl_previsao, alpha=0.5, label ='Reg Linear')\r\n",
        "plt.xlabel('Peso(KG)')\r\n",
        "plt.ylabel('Autonomia(KM/L)')\r\n",
        "plt.title(\"Comparação dos algoritmos previstos\")\r\n",
        "plt.legend(loc=1)"
      ],
      "execution_count": 34,
      "outputs": [
        {
          "output_type": "execute_result",
          "data": {
            "text/plain": [
              "<matplotlib.legend.Legend at 0x7fa366e06438>"
            ]
          },
          "metadata": {
            "tags": []
          },
          "execution_count": 34
        },
        {
          "output_type": "display_data",
          "data": {
            "image/png": "[encoded data removed]",
            "text/plain": [
              "<Figure size 432x288 with 1 Axes>"
            ]
          },
          "metadata": {
            "tags": [],
            "needs_background": "light"
          }
        }
      ]
    },
    {
      "cell_type": "markdown",
      "metadata": {
        "id": "5H-4_1Z2cffH"
      },
      "source": [
        "Comprovando o resultado do R² o gráfico demonstra que o MLP (linha em laranja) se ajusta melhor ao conjunto de dados. "
      ]
    },
    {
      "cell_type": "markdown",
      "metadata": {
        "id": "5hL9jcL1T807"
      },
      "source": [
        "**Previsão para um novo dado**"
      ]
    },
    {
      "cell_type": "code",
      "metadata": {
        "id": "HquKVY-MUCl0"
      },
      "source": [
        "#criamos o peso para qual desejamos prever a autonomia\r\n",
        "X_futuro = np.array([[1250]])\r\n",
        "\r\n",
        "#normalizamos esse X_futuro já fazendo a sua transposta \r\n",
        "X_futuro_norm = escala.transform(X_futuro.T)"
      ],
      "execution_count": 35,
      "outputs": []
    },
    {
      "cell_type": "code",
      "metadata": {
        "colab": {
          "base_uri": "https://localhost:8080/"
        },
        "id": "wnuC70YkWvmn",
        "outputId": "621d1bc1-5a20-4d39-acdc-e0181583fcdb"
      },
      "source": [
        "#Fazemos a previsão pelo dois modelos criados\r\n",
        "y_rna_prev_futuro = rna.predict(X_futuro_norm)\r\n",
        "y_reglinear_prev_futuro = reglinear.predict(X_futuro_norm)\r\n",
        "\r\n",
        "print('RNA: ',y_rna_prev_futuro)\r\n",
        "print('Reg Linear: ',y_reglinear_prev_futuro)"
      ],
      "execution_count": 36,
      "outputs": [
        {
          "output_type": "stream",
          "text": [
            "RNA:  [10.52413243]\n",
            "Reg Linear:  [10.0803182]\n"
          ],
          "name": "stdout"
        }
      ]
    },
    {
      "cell_type": "markdown",
      "metadata": {
        "id": "S5UL5wHxgXEM"
      },
      "source": [
        "Para o peso 1250 a autonomia prevista é de ~10.52 pela RNA e ~10.08 pela regressão linear. Isso pode ser visualizado melhor no gráfico abaixo."
      ]
    },
    {
      "cell_type": "code",
      "metadata": {
        "colab": {
          "base_uri": "https://localhost:8080/",
          "height": 282
        },
        "id": "TGGW75lWW2Br",
        "outputId": "7c60b8c7-ea4b-4c01-fffb-47d3d63bfe38"
      },
      "source": [
        "#Visualizamos a previsão graficamente\r\n",
        "plt.scatter(X, Y, label='Real')\r\n",
        "plt.scatter(X_futuro, y_rna_prev_futuro, label=\"MLP\" )\r\n",
        "plt.scatter(X_futuro, y_reglinear_prev_futuro, label=\"Reg Linear\")\r\n",
        "plt.legend(loc=1)"
      ],
      "execution_count": 43,
      "outputs": [
        {
          "output_type": "execute_result",
          "data": {
            "text/plain": [
              "<matplotlib.legend.Legend at 0x7fa3669a1e10>"
            ]
          },
          "metadata": {
            "tags": []
          },
          "execution_count": 43
        },
        {
          "output_type": "display_data",
          "data": {
            "image/png": "[encoded data removed]",
            "text/plain": [
              "<Figure size 432x288 with 1 Axes>"
            ]
          },
          "metadata": {
            "tags": [],
            "needs_background": "light"
          }
        }
      ]
    }
  ]
}